{
  "cells": [
    {
      "cell_type": "markdown",
      "metadata": {
        "id": "view-in-github",
        "colab_type": "text"
      },
      "source": [
        "<a href=\"https://colab.research.google.com/github/idjoopal/MonoDTR/blob/main/LaunchMonoRTD.ipynb\" target=\"_parent\"><img src=\"https://colab.research.google.com/assets/colab-badge.svg\" alt=\"Open In Colab\"/></a>"
      ]
    },
    {
      "cell_type": "markdown",
      "metadata": {
        "id": "UQUY-xDddM8m"
      },
      "source": [
        "## Launch MonoRTD\n",
        "- https://github.com/kuanchihhuang/monodtr\n",
        "1. 구글 드라이브 마운트\n",
        "2. 런타임 도구 GPU로 변경"
      ]
    },
    {
      "cell_type": "code",
      "source": [
        "from google.colab import drive\n",
        "drive.mount('/content/drive')"
      ],
      "metadata": {
        "colab": {
          "base_uri": "https://localhost:8080/"
        },
        "id": "nZqkcVy0JZee",
        "outputId": "c370d687-ee1f-4714-e558-4f1f7ee608f4"
      },
      "execution_count": null,
      "outputs": [
        {
          "output_type": "stream",
          "name": "stdout",
          "text": [
            "Mounted at /content/drive\n"
          ]
        }
      ]
    },
    {
      "cell_type": "markdown",
      "metadata": {
        "id": "azx01aCzf7Uv"
      },
      "source": [
        "### Installation"
      ]
    },
    {
      "cell_type": "code",
      "execution_count": null,
      "metadata": {
        "colab": {
          "base_uri": "https://localhost:8080/"
        },
        "id": "wXomBjyea36q",
        "outputId": "52cb80d8-88f0-4fb4-f305-ada423f0627f"
      },
      "outputs": [
        {
          "output_type": "stream",
          "name": "stdout",
          "text": [
            "Looking in indexes: https://pypi.org/simple, https://us-python.pkg.dev/colab-wheels/public/simple/\n",
            "Looking in links: https://download.pytorch.org/whl/cu100/torch_stable.html\n",
            "Collecting torch==1.4.0\n",
            "  Downloading https://download.pytorch.org/whl/cu100/torch-1.4.0%2Bcu100-cp37-cp37m-linux_x86_64.whl (723.9 MB)\n",
            "\u001b[K     |████████████████████████████████| 723.9 MB 23 kB/s \n",
            "\u001b[?25hCollecting torchvision==0.5.0\n",
            "  Downloading https://download.pytorch.org/whl/cu100/torchvision-0.5.0%2Bcu100-cp37-cp37m-linux_x86_64.whl (4.0 MB)\n",
            "\u001b[K     |████████████████████████████████| 4.0 MB 31.0 MB/s \n",
            "\u001b[?25hRequirement already satisfied: numpy in /usr/local/lib/python3.7/dist-packages (from torchvision==0.5.0) (1.21.6)\n",
            "Requirement already satisfied: pillow>=4.1.1 in /usr/local/lib/python3.7/dist-packages (from torchvision==0.5.0) (7.1.2)\n",
            "Requirement already satisfied: six in /usr/local/lib/python3.7/dist-packages (from torchvision==0.5.0) (1.15.0)\n",
            "Installing collected packages: torch, torchvision\n",
            "  Attempting uninstall: torch\n",
            "    Found existing installation: torch 1.12.0+cu113\n",
            "    Uninstalling torch-1.12.0+cu113:\n",
            "      Successfully uninstalled torch-1.12.0+cu113\n",
            "  Attempting uninstall: torchvision\n",
            "    Found existing installation: torchvision 0.13.0+cu113\n",
            "    Uninstalling torchvision-0.13.0+cu113:\n",
            "      Successfully uninstalled torchvision-0.13.0+cu113\n",
            "\u001b[31mERROR: pip's dependency resolver does not currently take into account all the packages that are installed. This behaviour is the source of the following dependency conflicts.\n",
            "torchtext 0.13.0 requires torch==1.12.0, but you have torch 1.4.0+cu100 which is incompatible.\n",
            "torchaudio 0.12.0+cu113 requires torch==1.12.0, but you have torch 1.4.0+cu100 which is incompatible.\n",
            "fastai 2.7.6 requires torch<1.13,>=1.7, but you have torch 1.4.0+cu100 which is incompatible.\n",
            "fastai 2.7.6 requires torchvision>=0.8.2, but you have torchvision 0.5.0+cu100 which is incompatible.\u001b[0m\n",
            "Successfully installed torch-1.4.0+cu100 torchvision-0.5.0+cu100\n"
          ]
        }
      ],
      "source": [
        "!pip3 install torch==1.4.0 torchvision==0.5.0 -f https://download.pytorch.org/whl/cu100/torch_stable.html"
      ]
    },
    {
      "cell_type": "code",
      "execution_count": null,
      "metadata": {
        "colab": {
          "base_uri": "https://localhost:8080/"
        },
        "id": "0p1PV66cb5Tv",
        "outputId": "ab8b2017-aebe-46c2-b8f7-5db9921d4c34"
      },
      "outputs": [
        {
          "output_type": "stream",
          "name": "stdout",
          "text": [
            "Looking in indexes: https://pypi.org/simple, https://us-python.pkg.dev/colab-wheels/public/simple/\n",
            "Requirement already satisfied: numpy in /usr/local/lib/python3.7/dist-packages (from -r /content/drive/Shareddrives/2022Cocacola/MonoDTR/requirement.txt (line 1)) (1.21.6)\n",
            "Requirement already satisfied: torch in /usr/local/lib/python3.7/dist-packages (from -r /content/drive/Shareddrives/2022Cocacola/MonoDTR/requirement.txt (line 2)) (1.4.0+cu100)\n",
            "Requirement already satisfied: torchvision in /usr/local/lib/python3.7/dist-packages (from -r /content/drive/Shareddrives/2022Cocacola/MonoDTR/requirement.txt (line 3)) (0.5.0+cu100)\n",
            "Requirement already satisfied: pillow in /usr/local/lib/python3.7/dist-packages (from -r /content/drive/Shareddrives/2022Cocacola/MonoDTR/requirement.txt (line 4)) (7.1.2)\n",
            "Requirement already satisfied: scikit-image in /usr/local/lib/python3.7/dist-packages (from -r /content/drive/Shareddrives/2022Cocacola/MonoDTR/requirement.txt (line 5)) (0.18.3)\n",
            "Collecting fire\n",
            "  Downloading fire-0.4.0.tar.gz (87 kB)\n",
            "\u001b[K     |████████████████████████████████| 87 kB 5.9 MB/s \n",
            "\u001b[?25hRequirement already satisfied: matplotlib in /usr/local/lib/python3.7/dist-packages (from -r /content/drive/Shareddrives/2022Cocacola/MonoDTR/requirement.txt (line 7)) (3.2.2)\n",
            "Requirement already satisfied: opencv-python in /usr/local/lib/python3.7/dist-packages (from -r /content/drive/Shareddrives/2022Cocacola/MonoDTR/requirement.txt (line 8)) (4.1.2.30)\n",
            "Requirement already satisfied: numba in /usr/local/lib/python3.7/dist-packages (from -r /content/drive/Shareddrives/2022Cocacola/MonoDTR/requirement.txt (line 9)) (0.51.2)\n",
            "Requirement already satisfied: easydict in /usr/local/lib/python3.7/dist-packages (from -r /content/drive/Shareddrives/2022Cocacola/MonoDTR/requirement.txt (line 10)) (1.9)\n",
            "Requirement already satisfied: tensorflow>=2.0 in /usr/local/lib/python3.7/dist-packages (from -r /content/drive/Shareddrives/2022Cocacola/MonoDTR/requirement.txt (line 11)) (2.8.2+zzzcolab20220629235552)\n",
            "Requirement already satisfied: cython in /usr/local/lib/python3.7/dist-packages (from -r /content/drive/Shareddrives/2022Cocacola/MonoDTR/requirement.txt (line 12)) (0.29.30)\n",
            "Requirement already satisfied: tqdm in /usr/local/lib/python3.7/dist-packages (from -r /content/drive/Shareddrives/2022Cocacola/MonoDTR/requirement.txt (line 13)) (4.64.0)\n",
            "Collecting pyquaternion\n",
            "  Downloading pyquaternion-0.9.9-py3-none-any.whl (14 kB)\n",
            "Requirement already satisfied: tensorboard<2.9,>=2.8 in /usr/local/lib/python3.7/dist-packages (from tensorflow>=2.0->-r /content/drive/Shareddrives/2022Cocacola/MonoDTR/requirement.txt (line 11)) (2.8.0)\n",
            "Requirement already satisfied: setuptools in /usr/local/lib/python3.7/dist-packages (from tensorflow>=2.0->-r /content/drive/Shareddrives/2022Cocacola/MonoDTR/requirement.txt (line 11)) (57.4.0)\n",
            "Requirement already satisfied: opt-einsum>=2.3.2 in /usr/local/lib/python3.7/dist-packages (from tensorflow>=2.0->-r /content/drive/Shareddrives/2022Cocacola/MonoDTR/requirement.txt (line 11)) (3.3.0)\n",
            "Requirement already satisfied: google-pasta>=0.1.1 in /usr/local/lib/python3.7/dist-packages (from tensorflow>=2.0->-r /content/drive/Shareddrives/2022Cocacola/MonoDTR/requirement.txt (line 11)) (0.2.0)\n",
            "Requirement already satisfied: libclang>=9.0.1 in /usr/local/lib/python3.7/dist-packages (from tensorflow>=2.0->-r /content/drive/Shareddrives/2022Cocacola/MonoDTR/requirement.txt (line 11)) (14.0.1)\n",
            "Requirement already satisfied: keras-preprocessing>=1.1.1 in /usr/local/lib/python3.7/dist-packages (from tensorflow>=2.0->-r /content/drive/Shareddrives/2022Cocacola/MonoDTR/requirement.txt (line 11)) (1.1.2)\n",
            "Requirement already satisfied: keras<2.9,>=2.8.0rc0 in /usr/local/lib/python3.7/dist-packages (from tensorflow>=2.0->-r /content/drive/Shareddrives/2022Cocacola/MonoDTR/requirement.txt (line 11)) (2.8.0)\n",
            "Requirement already satisfied: protobuf<3.20,>=3.9.2 in /usr/local/lib/python3.7/dist-packages (from tensorflow>=2.0->-r /content/drive/Shareddrives/2022Cocacola/MonoDTR/requirement.txt (line 11)) (3.17.3)\n",
            "Requirement already satisfied: tensorflow-io-gcs-filesystem>=0.23.1 in /usr/local/lib/python3.7/dist-packages (from tensorflow>=2.0->-r /content/drive/Shareddrives/2022Cocacola/MonoDTR/requirement.txt (line 11)) (0.26.0)\n",
            "Requirement already satisfied: typing-extensions>=3.6.6 in /usr/local/lib/python3.7/dist-packages (from tensorflow>=2.0->-r /content/drive/Shareddrives/2022Cocacola/MonoDTR/requirement.txt (line 11)) (4.1.1)\n",
            "Requirement already satisfied: termcolor>=1.1.0 in /usr/local/lib/python3.7/dist-packages (from tensorflow>=2.0->-r /content/drive/Shareddrives/2022Cocacola/MonoDTR/requirement.txt (line 11)) (1.1.0)\n",
            "Requirement already satisfied: astunparse>=1.6.0 in /usr/local/lib/python3.7/dist-packages (from tensorflow>=2.0->-r /content/drive/Shareddrives/2022Cocacola/MonoDTR/requirement.txt (line 11)) (1.6.3)\n",
            "Requirement already satisfied: grpcio<2.0,>=1.24.3 in /usr/local/lib/python3.7/dist-packages (from tensorflow>=2.0->-r /content/drive/Shareddrives/2022Cocacola/MonoDTR/requirement.txt (line 11)) (1.47.0)\n",
            "Requirement already satisfied: flatbuffers>=1.12 in /usr/local/lib/python3.7/dist-packages (from tensorflow>=2.0->-r /content/drive/Shareddrives/2022Cocacola/MonoDTR/requirement.txt (line 11)) (2.0)\n",
            "Requirement already satisfied: wrapt>=1.11.0 in /usr/local/lib/python3.7/dist-packages (from tensorflow>=2.0->-r /content/drive/Shareddrives/2022Cocacola/MonoDTR/requirement.txt (line 11)) (1.14.1)\n",
            "Requirement already satisfied: h5py>=2.9.0 in /usr/local/lib/python3.7/dist-packages (from tensorflow>=2.0->-r /content/drive/Shareddrives/2022Cocacola/MonoDTR/requirement.txt (line 11)) (3.1.0)\n",
            "Requirement already satisfied: tensorflow-estimator<2.9,>=2.8 in /usr/local/lib/python3.7/dist-packages (from tensorflow>=2.0->-r /content/drive/Shareddrives/2022Cocacola/MonoDTR/requirement.txt (line 11)) (2.8.0)\n",
            "Requirement already satisfied: six>=1.12.0 in /usr/local/lib/python3.7/dist-packages (from tensorflow>=2.0->-r /content/drive/Shareddrives/2022Cocacola/MonoDTR/requirement.txt (line 11)) (1.15.0)\n",
            "Requirement already satisfied: gast>=0.2.1 in /usr/local/lib/python3.7/dist-packages (from tensorflow>=2.0->-r /content/drive/Shareddrives/2022Cocacola/MonoDTR/requirement.txt (line 11)) (0.5.3)\n",
            "Requirement already satisfied: absl-py>=0.4.0 in /usr/local/lib/python3.7/dist-packages (from tensorflow>=2.0->-r /content/drive/Shareddrives/2022Cocacola/MonoDTR/requirement.txt (line 11)) (1.1.0)\n",
            "Requirement already satisfied: wheel<1.0,>=0.23.0 in /usr/local/lib/python3.7/dist-packages (from astunparse>=1.6.0->tensorflow>=2.0->-r /content/drive/Shareddrives/2022Cocacola/MonoDTR/requirement.txt (line 11)) (0.37.1)\n",
            "Requirement already satisfied: cached-property in /usr/local/lib/python3.7/dist-packages (from h5py>=2.9.0->tensorflow>=2.0->-r /content/drive/Shareddrives/2022Cocacola/MonoDTR/requirement.txt (line 11)) (1.5.2)\n",
            "Requirement already satisfied: tensorboard-plugin-wit>=1.6.0 in /usr/local/lib/python3.7/dist-packages (from tensorboard<2.9,>=2.8->tensorflow>=2.0->-r /content/drive/Shareddrives/2022Cocacola/MonoDTR/requirement.txt (line 11)) (1.8.1)\n",
            "Requirement already satisfied: google-auth-oauthlib<0.5,>=0.4.1 in /usr/local/lib/python3.7/dist-packages (from tensorboard<2.9,>=2.8->tensorflow>=2.0->-r /content/drive/Shareddrives/2022Cocacola/MonoDTR/requirement.txt (line 11)) (0.4.6)\n",
            "Requirement already satisfied: tensorboard-data-server<0.7.0,>=0.6.0 in /usr/local/lib/python3.7/dist-packages (from tensorboard<2.9,>=2.8->tensorflow>=2.0->-r /content/drive/Shareddrives/2022Cocacola/MonoDTR/requirement.txt (line 11)) (0.6.1)\n",
            "Requirement already satisfied: requests<3,>=2.21.0 in /usr/local/lib/python3.7/dist-packages (from tensorboard<2.9,>=2.8->tensorflow>=2.0->-r /content/drive/Shareddrives/2022Cocacola/MonoDTR/requirement.txt (line 11)) (2.23.0)\n",
            "Requirement already satisfied: markdown>=2.6.8 in /usr/local/lib/python3.7/dist-packages (from tensorboard<2.9,>=2.8->tensorflow>=2.0->-r /content/drive/Shareddrives/2022Cocacola/MonoDTR/requirement.txt (line 11)) (3.3.7)\n",
            "Requirement already satisfied: google-auth<3,>=1.6.3 in /usr/local/lib/python3.7/dist-packages (from tensorboard<2.9,>=2.8->tensorflow>=2.0->-r /content/drive/Shareddrives/2022Cocacola/MonoDTR/requirement.txt (line 11)) (1.35.0)\n",
            "Requirement already satisfied: werkzeug>=0.11.15 in /usr/local/lib/python3.7/dist-packages (from tensorboard<2.9,>=2.8->tensorflow>=2.0->-r /content/drive/Shareddrives/2022Cocacola/MonoDTR/requirement.txt (line 11)) (1.0.1)\n",
            "Requirement already satisfied: cachetools<5.0,>=2.0.0 in /usr/local/lib/python3.7/dist-packages (from google-auth<3,>=1.6.3->tensorboard<2.9,>=2.8->tensorflow>=2.0->-r /content/drive/Shareddrives/2022Cocacola/MonoDTR/requirement.txt (line 11)) (4.2.4)\n",
            "Requirement already satisfied: rsa<5,>=3.1.4 in /usr/local/lib/python3.7/dist-packages (from google-auth<3,>=1.6.3->tensorboard<2.9,>=2.8->tensorflow>=2.0->-r /content/drive/Shareddrives/2022Cocacola/MonoDTR/requirement.txt (line 11)) (4.8)\n",
            "Requirement already satisfied: pyasn1-modules>=0.2.1 in /usr/local/lib/python3.7/dist-packages (from google-auth<3,>=1.6.3->tensorboard<2.9,>=2.8->tensorflow>=2.0->-r /content/drive/Shareddrives/2022Cocacola/MonoDTR/requirement.txt (line 11)) (0.2.8)\n",
            "Requirement already satisfied: requests-oauthlib>=0.7.0 in /usr/local/lib/python3.7/dist-packages (from google-auth-oauthlib<0.5,>=0.4.1->tensorboard<2.9,>=2.8->tensorflow>=2.0->-r /content/drive/Shareddrives/2022Cocacola/MonoDTR/requirement.txt (line 11)) (1.3.1)\n",
            "Requirement already satisfied: importlib-metadata>=4.4 in /usr/local/lib/python3.7/dist-packages (from markdown>=2.6.8->tensorboard<2.9,>=2.8->tensorflow>=2.0->-r /content/drive/Shareddrives/2022Cocacola/MonoDTR/requirement.txt (line 11)) (4.12.0)\n",
            "Requirement already satisfied: zipp>=0.5 in /usr/local/lib/python3.7/dist-packages (from importlib-metadata>=4.4->markdown>=2.6.8->tensorboard<2.9,>=2.8->tensorflow>=2.0->-r /content/drive/Shareddrives/2022Cocacola/MonoDTR/requirement.txt (line 11)) (3.8.0)\n",
            "Requirement already satisfied: pyasn1<0.5.0,>=0.4.6 in /usr/local/lib/python3.7/dist-packages (from pyasn1-modules>=0.2.1->google-auth<3,>=1.6.3->tensorboard<2.9,>=2.8->tensorflow>=2.0->-r /content/drive/Shareddrives/2022Cocacola/MonoDTR/requirement.txt (line 11)) (0.4.8)\n",
            "Requirement already satisfied: urllib3!=1.25.0,!=1.25.1,<1.26,>=1.21.1 in /usr/local/lib/python3.7/dist-packages (from requests<3,>=2.21.0->tensorboard<2.9,>=2.8->tensorflow>=2.0->-r /content/drive/Shareddrives/2022Cocacola/MonoDTR/requirement.txt (line 11)) (1.24.3)\n",
            "Requirement already satisfied: idna<3,>=2.5 in /usr/local/lib/python3.7/dist-packages (from requests<3,>=2.21.0->tensorboard<2.9,>=2.8->tensorflow>=2.0->-r /content/drive/Shareddrives/2022Cocacola/MonoDTR/requirement.txt (line 11)) (2.10)\n",
            "Requirement already satisfied: chardet<4,>=3.0.2 in /usr/local/lib/python3.7/dist-packages (from requests<3,>=2.21.0->tensorboard<2.9,>=2.8->tensorflow>=2.0->-r /content/drive/Shareddrives/2022Cocacola/MonoDTR/requirement.txt (line 11)) (3.0.4)\n",
            "Requirement already satisfied: certifi>=2017.4.17 in /usr/local/lib/python3.7/dist-packages (from requests<3,>=2.21.0->tensorboard<2.9,>=2.8->tensorflow>=2.0->-r /content/drive/Shareddrives/2022Cocacola/MonoDTR/requirement.txt (line 11)) (2022.6.15)\n",
            "Requirement already satisfied: oauthlib>=3.0.0 in /usr/local/lib/python3.7/dist-packages (from requests-oauthlib>=0.7.0->google-auth-oauthlib<0.5,>=0.4.1->tensorboard<2.9,>=2.8->tensorflow>=2.0->-r /content/drive/Shareddrives/2022Cocacola/MonoDTR/requirement.txt (line 11)) (3.2.0)\n",
            "Requirement already satisfied: scipy>=1.0.1 in /usr/local/lib/python3.7/dist-packages (from scikit-image->-r /content/drive/Shareddrives/2022Cocacola/MonoDTR/requirement.txt (line 5)) (1.7.3)\n",
            "Requirement already satisfied: imageio>=2.3.0 in /usr/local/lib/python3.7/dist-packages (from scikit-image->-r /content/drive/Shareddrives/2022Cocacola/MonoDTR/requirement.txt (line 5)) (2.4.1)\n",
            "Requirement already satisfied: PyWavelets>=1.1.1 in /usr/local/lib/python3.7/dist-packages (from scikit-image->-r /content/drive/Shareddrives/2022Cocacola/MonoDTR/requirement.txt (line 5)) (1.3.0)\n",
            "Requirement already satisfied: networkx>=2.0 in /usr/local/lib/python3.7/dist-packages (from scikit-image->-r /content/drive/Shareddrives/2022Cocacola/MonoDTR/requirement.txt (line 5)) (2.6.3)\n",
            "Requirement already satisfied: tifffile>=2019.7.26 in /usr/local/lib/python3.7/dist-packages (from scikit-image->-r /content/drive/Shareddrives/2022Cocacola/MonoDTR/requirement.txt (line 5)) (2021.11.2)\n",
            "Requirement already satisfied: python-dateutil>=2.1 in /usr/local/lib/python3.7/dist-packages (from matplotlib->-r /content/drive/Shareddrives/2022Cocacola/MonoDTR/requirement.txt (line 7)) (2.8.2)\n",
            "Requirement already satisfied: cycler>=0.10 in /usr/local/lib/python3.7/dist-packages (from matplotlib->-r /content/drive/Shareddrives/2022Cocacola/MonoDTR/requirement.txt (line 7)) (0.11.0)\n",
            "Requirement already satisfied: kiwisolver>=1.0.1 in /usr/local/lib/python3.7/dist-packages (from matplotlib->-r /content/drive/Shareddrives/2022Cocacola/MonoDTR/requirement.txt (line 7)) (1.4.3)\n",
            "Requirement already satisfied: pyparsing!=2.0.4,!=2.1.2,!=2.1.6,>=2.0.1 in /usr/local/lib/python3.7/dist-packages (from matplotlib->-r /content/drive/Shareddrives/2022Cocacola/MonoDTR/requirement.txt (line 7)) (3.0.9)\n",
            "Requirement already satisfied: llvmlite<0.35,>=0.34.0.dev0 in /usr/local/lib/python3.7/dist-packages (from numba->-r /content/drive/Shareddrives/2022Cocacola/MonoDTR/requirement.txt (line 9)) (0.34.0)\n",
            "Building wheels for collected packages: fire\n",
            "  Building wheel for fire (setup.py) ... \u001b[?25l\u001b[?25hdone\n",
            "  Created wheel for fire: filename=fire-0.4.0-py2.py3-none-any.whl size=115942 sha256=5dd68301e5b7c0ee6a0a28866609306763599d7bf16d2aeae45a01703c717d20\n",
            "  Stored in directory: /root/.cache/pip/wheels/8a/67/fb/2e8a12fa16661b9d5af1f654bd199366799740a85c64981226\n",
            "Successfully built fire\n",
            "Installing collected packages: pyquaternion, fire\n",
            "Successfully installed fire-0.4.0 pyquaternion-0.9.9\n"
          ]
        }
      ],
      "source": [
        "!pip3 install -r /content/drive/Shareddrives/2022Cocacola/MonoDTR/requirement.txt"
      ]
    },
    {
      "cell_type": "code",
      "execution_count": null,
      "metadata": {
        "id": "-kMT4kF5cUrS"
      },
      "outputs": [],
      "source": [
        "!chmod 755 /content/drive/Shareddrives/2022Cocacola/MonoDTR/make.sh"
      ]
    },
    {
      "cell_type": "code",
      "execution_count": null,
      "metadata": {
        "colab": {
          "base_uri": "https://localhost:8080/"
        },
        "id": "LqUQD_dTcAHT",
        "outputId": "ef405f34-ebed-4746-aa5e-ac8c07648241"
      },
      "outputs": [
        {
          "output_type": "stream",
          "name": "stdout",
          "text": [
            "/content/drive/Shareddrives/2022Cocacola/MonoDTR\n",
            "/content/drive/Shareddrives/2022Cocacola/MonoDTR/visualDet3D/networks/lib/ops/dcn /content/drive/Shareddrives/2022Cocacola/MonoDTR\n",
            "running build_ext\n",
            "building '..deform_conv_ext' extension\n",
            "creating build\n",
            "creating build/temp.linux-x86_64-3.7\n",
            "creating build/temp.linux-x86_64-3.7/src\n",
            "creating build/temp.linux-x86_64-3.7/src/cuda\n",
            "x86_64-linux-gnu-gcc -pthread -Wno-unused-result -Wsign-compare -DNDEBUG -g -fwrapv -O2 -Wall -g -fstack-protector-strong -Wformat -Werror=format-security -g -fwrapv -O2 -I/usr/local/cuda/include -Wdate-time -D_FORTIFY_SOURCE=2 -fPIC -DWITH_CUDA -I/usr/local/lib/python3.7/dist-packages/torch/include -I/usr/local/lib/python3.7/dist-packages/torch/include/torch/csrc/api/include -I/usr/local/lib/python3.7/dist-packages/torch/include/TH -I/usr/local/lib/python3.7/dist-packages/torch/include/THC -I/usr/local/cuda/include -I/usr/include/python3.7m -c src/deform_conv_ext.cpp -o build/temp.linux-x86_64-3.7/src/deform_conv_ext.o -DTORCH_API_INCLUDE_EXTENSION_H -DTORCH_EXTENSION_NAME=deform_conv_ext -D_GLIBCXX_USE_CXX11_ABI=0 -std=c++11\n",
            "x86_64-linux-gnu-gcc -pthread -Wno-unused-result -Wsign-compare -DNDEBUG -g -fwrapv -O2 -Wall -g -fstack-protector-strong -Wformat -Werror=format-security -g -fwrapv -O2 -I/usr/local/cuda/include -Wdate-time -D_FORTIFY_SOURCE=2 -fPIC -DWITH_CUDA -I/usr/local/lib/python3.7/dist-packages/torch/include -I/usr/local/lib/python3.7/dist-packages/torch/include/torch/csrc/api/include -I/usr/local/lib/python3.7/dist-packages/torch/include/TH -I/usr/local/lib/python3.7/dist-packages/torch/include/THC -I/usr/local/cuda/include -I/usr/include/python3.7m -c src/cuda/deform_conv_cuda.cpp -o build/temp.linux-x86_64-3.7/src/cuda/deform_conv_cuda.o -DTORCH_API_INCLUDE_EXTENSION_H -DTORCH_EXTENSION_NAME=deform_conv_ext -D_GLIBCXX_USE_CXX11_ABI=0 -std=c++11\n",
            "/usr/local/cuda/bin/nvcc -DWITH_CUDA -I/usr/local/lib/python3.7/dist-packages/torch/include -I/usr/local/lib/python3.7/dist-packages/torch/include/torch/csrc/api/include -I/usr/local/lib/python3.7/dist-packages/torch/include/TH -I/usr/local/lib/python3.7/dist-packages/torch/include/THC -I/usr/local/cuda/include -I/usr/include/python3.7m -c src/cuda/deform_conv_cuda_kernel.cu -o build/temp.linux-x86_64-3.7/src/cuda/deform_conv_cuda_kernel.o -D__CUDA_NO_HALF_OPERATORS__ -D__CUDA_NO_HALF_CONVERSIONS__ -D__CUDA_NO_HALF2_OPERATORS__ --expt-relaxed-constexpr --compiler-options '-fPIC' -D__CUDA_NO_HALF_OPERATORS__ -D__CUDA_NO_HALF_CONVERSIONS__ -D__CUDA_NO_HALF2_OPERATORS__ -DTORCH_API_INCLUDE_EXTENSION_H -DTORCH_EXTENSION_NAME=deform_conv_ext -D_GLIBCXX_USE_CXX11_ABI=0 -gencode=arch=compute_75,code=sm_75 -std=c++11\n",
            "/usr/local/lib/python3.7/dist-packages/torch/include/c10/core/TensorTypeSet.h(44): warning: integer conversion resulted in a change of sign\n",
            "\n",
            "/usr/local/lib/python3.7/dist-packages/torch/include/c10/core/TensorTypeSet.h(44): warning: integer conversion resulted in a change of sign\n",
            "\n",
            "creating build/lib.linux-x86_64-3.7\n",
            "x86_64-linux-gnu-g++ -pthread -shared -Wl,-O1 -Wl,-Bsymbolic-functions -Wl,-Bsymbolic-functions -g -fwrapv -O2 -Wl,-Bsymbolic-functions -g -fwrapv -O2 -I/usr/local/cuda/include -Wdate-time -D_FORTIFY_SOURCE=2 build/temp.linux-x86_64-3.7/src/deform_conv_ext.o build/temp.linux-x86_64-3.7/src/cuda/deform_conv_cuda.o build/temp.linux-x86_64-3.7/src/cuda/deform_conv_cuda_kernel.o -L/usr/local/cuda/lib64 -lcudart -o build/lib.linux-x86_64-3.7/deform_conv_ext.cpython-37m-x86_64-linux-gnu.so\n",
            "copying build/lib.linux-x86_64-3.7/deform_conv_ext.cpython-37m-x86_64-linux-gnu.so -> \n",
            "/content/drive/Shareddrives/2022Cocacola/MonoDTR\n",
            "/content/drive/Shareddrives/2022Cocacola/MonoDTR/visualDet3D/networks/lib/ops/iou3d /content/drive/Shareddrives/2022Cocacola/MonoDTR\n",
            "running build_ext\n",
            "building '..iou3d_cuda' extension\n",
            "creating build\n",
            "creating build/temp.linux-x86_64-3.7\n",
            "creating build/temp.linux-x86_64-3.7/src\n",
            "x86_64-linux-gnu-gcc -pthread -Wno-unused-result -Wsign-compare -DNDEBUG -g -fwrapv -O2 -Wall -g -fstack-protector-strong -Wformat -Werror=format-security -g -fwrapv -O2 -fopenmp -I/usr/local/cuda/include -Wdate-time -D_FORTIFY_SOURCE=2 -fPIC -DWITH_CUDA -I/usr/local/lib/python3.7/dist-packages/torch/include -I/usr/local/lib/python3.7/dist-packages/torch/include/torch/csrc/api/include -I/usr/local/lib/python3.7/dist-packages/torch/include/TH -I/usr/local/lib/python3.7/dist-packages/torch/include/THC -I/usr/local/cuda/include -I/usr/include/python3.7m -c src/iou3d.cpp -o build/temp.linux-x86_64-3.7/src/iou3d.o -DTORCH_API_INCLUDE_EXTENSION_H -DTORCH_EXTENSION_NAME=iou3d_cuda -D_GLIBCXX_USE_CXX11_ABI=0 -std=c++11\n",
            "/usr/local/cuda/bin/nvcc -DWITH_CUDA -I/usr/local/lib/python3.7/dist-packages/torch/include -I/usr/local/lib/python3.7/dist-packages/torch/include/torch/csrc/api/include -I/usr/local/lib/python3.7/dist-packages/torch/include/TH -I/usr/local/lib/python3.7/dist-packages/torch/include/THC -I/usr/local/cuda/include -I/usr/include/python3.7m -c src/iou3d_kernel.cu -o build/temp.linux-x86_64-3.7/src/iou3d_kernel.o -D__CUDA_NO_HALF_OPERATORS__ -D__CUDA_NO_HALF_CONVERSIONS__ -D__CUDA_NO_HALF2_OPERATORS__ --expt-relaxed-constexpr --compiler-options '-fPIC' -D__CUDA_NO_HALF_OPERATORS__ -D__CUDA_NO_HALF_CONVERSIONS__ -D__CUDA_NO_HALF2_OPERATORS__ -DTORCH_API_INCLUDE_EXTENSION_H -DTORCH_EXTENSION_NAME=iou3d_cuda -D_GLIBCXX_USE_CXX11_ABI=0 -gencode=arch=compute_75,code=sm_75 -std=c++11\n",
            "creating build/lib.linux-x86_64-3.7\n",
            "x86_64-linux-gnu-g++ -pthread -shared -Wl,-O1 -Wl,-Bsymbolic-functions -Wl,-Bsymbolic-functions -g -fwrapv -O2 -Wl,-Bsymbolic-functions -g -fwrapv -O2 -fopenmp -I/usr/local/cuda/include -Wdate-time -D_FORTIFY_SOURCE=2 build/temp.linux-x86_64-3.7/src/iou3d.o build/temp.linux-x86_64-3.7/src/iou3d_kernel.o -L/usr/local/cuda/lib64 -lcudart -o build/lib.linux-x86_64-3.7/iou3d_cuda.cpython-37m-x86_64-linux-gnu.so\n",
            "copying build/lib.linux-x86_64-3.7/iou3d_cuda.cpython-37m-x86_64-linux-gnu.so -> \n",
            "/content/drive/Shareddrives/2022Cocacola/MonoDTR\n"
          ]
        }
      ],
      "source": [
        "# build ops (deform convs and iou3d)\n",
        "%cd /content/drive/Shareddrives/2022Cocacola/MonoDTR/\n",
        "! ./make.sh"
      ]
    },
    {
      "cell_type": "markdown",
      "metadata": {
        "id": "4d-JZYoOgHqq"
      },
      "source": [
        "### Data Preparation\n",
        "- zip 파일은 제 개인 드라이브에 있습니다..\n",
        "- 공용 드라이브엔 바로 활용가능한 데이터만 옮기기 시도중"
      ]
    },
    {
      "cell_type": "code",
      "execution_count": null,
      "metadata": {
        "id": "Wgo84VIWeDuG"
      },
      "outputs": [],
      "source": [
        "import zipfile\n",
        "from google.colab import drive\n",
        "\n",
        "# drive.mount('/content/drive/')\n",
        "\n",
        "zip_ref = zipfile.ZipFile(\"/content/drive/Shareddrives/2022Cocacola/YonseiDataset/data_object_calib.zip\", 'r')\n",
        "zip_ref.extractall(\"/content/drive/Shareddrives/2022Cocacola/MonoDTR/data/KITTI\")\n",
        "zip_ref.close()\n",
        "\n",
        "# zip_ref = zipfile.ZipFile(\"/content/drive/Shareddrives/2022Cocacola/YonseiDataset/data_object_label_2.zip\", 'r')\n",
        "# zip_ref.extractall(\"/content/drive/Shareddrives/2022Cocacola/MonoDTR/data/KITTI\")\n",
        "# zip_ref.close()\n",
        "\n",
        "# zip_ref = zipfile.ZipFile(\"/content/drive/Shareddrives/2022Cocacola/YonseiDataset/data_object_image_2.zip\", 'r')\n",
        "# zip_ref.extractall(\"/content/drive/Shareddrives/2022Cocacola/MonoDTR/data/KITTI\")\n",
        "# zip_ref.close()\n",
        "\n",
        "# zip_ref = zipfile.ZipFile(\"/content/drive/Shareddrives/2022Cocacola/YonseiDataset/data_object_velodyne.zip\", 'r')\n",
        "# zip_ref.extractall(\"/content/drive/Shareddrives/2022Cocacola/MonoDTR/data/KITTI\")\n",
        "# zip_ref.close()"
      ]
    }
  ],
  "metadata": {
    "accelerator": "GPU",
    "colab": {
      "collapsed_sections": [],
      "name": "LaunchMonoRTD.ipynb",
      "provenance": [],
      "authorship_tag": "ABX9TyO6677H+ATBYZmRSveMBfR4",
      "include_colab_link": true
    },
    "gpuClass": "standard",
    "kernelspec": {
      "display_name": "Python 3",
      "name": "python3"
    },
    "language_info": {
      "name": "python"
    }
  },
  "nbformat": 4,
  "nbformat_minor": 0
}